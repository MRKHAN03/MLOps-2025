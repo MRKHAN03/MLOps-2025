{
 "cells": [
  {
   "cell_type": "code",
   "execution_count": 1,
   "metadata": {},
   "outputs": [
    {
     "name": "stdout",
     "output_type": "stream",
     "text": [
      "65               The Dark Knight\n",
      "119                Batman Begins\n",
      "1362                      Batman\n",
      "210               Batman & Robin\n",
      "428               Batman Returns\n",
      "1363                      Batman\n",
      "1199                The Prestige\n",
      "303                     Catwoman\n",
      "4644    Amidst the Devil's Wings\n",
      "72                 Suicide Squad\n",
      "Name: title, dtype: object\n"
     ]
    }
   ],
   "source": [
    "import pandas as pd\n",
    "import numpy as np\n",
    "import ast\n",
    "credits = pd.read_csv('tmdb_5000_credits.csv')\n",
    "movies = pd.read_csv('tmdb_5000_movies.csv')\n",
    "credits.head()\n",
    "movies.head(1)\n",
    "movies = movies.merge(credits, left_on='title', right_on='title')\n",
    "movies.head(1)\n",
    "movies = movies[['movie_id', 'title', 'overview', 'genres', 'keywords', 'cast', 'crew']]\n",
    "movies.head(1)\n",
    "def convert(obj):\n",
    "    L = []\n",
    "    for i in ast.literal_eval(obj):\n",
    "        L.append(i['name'])\n",
    "    return L\n",
    "movies['genres'] = movies['genres'].apply(convert)\n",
    "movies['genres']\n",
    "movies['keywords'] = movies['keywords'].apply(convert)\n",
    "movies['keywords']\n",
    "movies['cast'] = movies['cast'].apply(lambda x: [i['name'] for i in ast.literal_eval(x)[:3]])  # Only top 3 actors\n",
    "movies['crew'] = movies['crew'].apply(lambda x: [i['name'] for i in ast.literal_eval(x) if i['job'] == 'Director'])\n",
    "movies['tags'] = movies['genres'] + movies['keywords'] + movies['cast'] + movies['crew']\n",
    "movies['tags']\n",
    "movies['tags'] = movies['tags'].apply(lambda x: \" \".join(x))\n",
    "movies['tags']\n",
    "movies = movies[['movie_id', 'title', 'overview', 'tags']]\n",
    "movies['tags'] = movies['tags'].apply(lambda x: x.lower())\n",
    "movies.head()\n",
    "from sklearn.feature_extraction.text import TfidfVectorizer\n",
    "tfidf = TfidfVectorizer(stop_words='english')\n",
    "tfidf_matrix = tfidf.fit_transform(movies['tags'])\n",
    "from sklearn.metrics.pairwise import cosine_similarity\n",
    "cosine_sim = cosine_similarity(tfidf_matrix, tfidf_matrix)\n",
    "def get_recommendations(title, cosine_sim=cosine_sim):\n",
    "    idx = movies[movies['title'] == title].index[0]\n",
    "    sim_scores = list(enumerate(cosine_sim[idx]))\n",
    "    sim_scores = sorted(sim_scores, key=lambda x: x[1], reverse=True)\n",
    "    sim_scores = sim_scores[1:11]  # Get top 10 similar movies\n",
    "    movie_indices = [i[0] for i in sim_scores]\n",
    "    return movies['title'].iloc[movie_indices]\n",
    "print(get_recommendations('The Dark Knight Rises'))\n",
    "import pickle\n",
    "with open('movie_data.pkl', 'wb') as file:\n",
    "    pickle.dump((movies, cosine_sim), file)"
   ]
  }
 ],
 "metadata": {
  "kernelspec": {
   "display_name": "base",
   "language": "python",
   "name": "python3"
  },
  "language_info": {
   "codemirror_mode": {
    "name": "ipython",
    "version": 3
   },
   "file_extension": ".py",
   "mimetype": "text/x-python",
   "name": "python",
   "nbconvert_exporter": "python",
   "pygments_lexer": "ipython3",
   "version": "3.11.5"
  }
 },
 "nbformat": 4,
 "nbformat_minor": 2
}
